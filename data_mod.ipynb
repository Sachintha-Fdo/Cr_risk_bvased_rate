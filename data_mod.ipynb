{
 "cells": [
  {
   "cell_type": "code",
   "execution_count": 1,
   "metadata": {},
   "outputs": [
    {
     "name": "stdout",
     "output_type": "stream",
     "text": [
      "        T       E         C    target  Unnamed: 4  Unnamed: 5 Unnamed: 6  \\\n",
      "0      12  0.1064  0.625493  0.251010         NaN         NaN        min   \n",
      "1      25  0.4105  0.498610  0.271154         NaN         NaN        NaN   \n",
      "2      49  0.6164  0.513004  0.290218         NaN         NaN        NaN   \n",
      "3      61  0.5061  0.423741  0.293633         NaN         NaN        NaN   \n",
      "4      61  0.5995  0.440955  0.296796         NaN         NaN        NaN   \n",
      "...    ..     ...       ...       ...         ...         ...        ...   \n",
      "10176  61  0.6312  0.441324  0.297976         NaN         NaN        NaN   \n",
      "10177  49  0.5636  0.517317  0.288157         NaN         NaN        NaN   \n",
      "10178  37  0.4868  0.607531  0.277719         NaN         NaN        NaN   \n",
      "10179  13  0.3245  0.676491  0.258674         NaN         NaN        NaN   \n",
      "10180  37  0.6348  0.576682  0.283857         NaN         NaN        NaN   \n",
      "\n",
      "       Unnamed: 7  Unnamed: 8 Unnamed: 9  Unnamed: 10  \n",
      "0            25.0         NaN        max         31.0  \n",
      "1             NaN         NaN        NaN          NaN  \n",
      "2             NaN         NaN        NaN          NaN  \n",
      "3             NaN         NaN        NaN          NaN  \n",
      "4             NaN         NaN        NaN          NaN  \n",
      "...           ...         ...        ...          ...  \n",
      "10176         NaN         NaN        NaN          NaN  \n",
      "10177         NaN         NaN        NaN          NaN  \n",
      "10178         NaN         NaN        NaN          NaN  \n",
      "10179         NaN         NaN        NaN          NaN  \n",
      "10180         NaN         NaN        NaN          NaN  \n",
      "\n",
      "[10181 rows x 11 columns]\n"
     ]
    }
   ],
   "source": [
    "import pandas as pd\n",
    "import numpy as np\n",
    "\n",
    "# Load the dataset from data.csv\n",
    "df = pd.read_csv('data.csv')\n",
    "\n",
    "# Normalize T, E, and C to ensure fair scaling\n",
    "df['T_norm'] = (df['T'] - df['T'].min()) / (df['T'].max() - df['T'].min())\n",
    "df['E_norm'] = (df['E'] - df['E'].min()) / (df['E'].max() - df['E'].min())\n",
    "df['C_norm'] = (df['C'] - df['C'].min()) / (df['C'].max() - df['C'].min())\n",
    "\n",
    "# Calculate a weighted score for target based on T, E, and C\n",
    "# Prioritize T and E over C\n",
    "df['score'] = 0.5 * df['T_norm'] + 0.4 * df['E_norm'] - 0.1 * df['C_norm']\n",
    "\n",
    "# Scale the score to the target range [0.25, 0.31]\n",
    "min_target = 0.25\n",
    "max_target = 0.31\n",
    "df['target'] = min_target + (df['score'] - df['score'].min()) / (df['score'].max() - df['score'].min()) * (max_target - min_target)\n",
    "\n",
    "# Drop temporary columns\n",
    "df = df.drop(columns=['T_norm', 'E_norm', 'C_norm', 'score'])\n",
    "\n",
    "# Save the updated dataset back to data.csv\n",
    "df.to_csv('data.csv', index=False)\n",
    "\n",
    "# Display the resulting DataFrame\n",
    "print(df)"
   ]
  }
 ],
 "metadata": {
  "kernelspec": {
   "display_name": "Python 3",
   "language": "python",
   "name": "python3"
  },
  "language_info": {
   "codemirror_mode": {
    "name": "ipython",
    "version": 3
   },
   "file_extension": ".py",
   "mimetype": "text/x-python",
   "name": "python",
   "nbconvert_exporter": "python",
   "pygments_lexer": "ipython3",
   "version": "3.10.10"
  }
 },
 "nbformat": 4,
 "nbformat_minor": 2
}
