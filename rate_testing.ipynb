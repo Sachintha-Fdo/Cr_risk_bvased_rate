{
 "cells": [
  {
   "cell_type": "code",
   "execution_count": 1,
   "metadata": {},
   "outputs": [
    {
     "name": "stdout",
     "output_type": "stream",
     "text": [
      "Updated dataset saved as updated_dataset_03.csv\n"
     ]
    }
   ],
   "source": [
    "import pandas as pd\n",
    "import numpy as np\n",
    "\n",
    "# Constants\n",
    "R_base = 0.3  # You may need to set this based on your requirements\n",
    "k1 = 0.1429\n",
    "k2 = 0.1224\n",
    "k3 = 0.0490\n",
    "T_ref = 12  # Reference temperature, change this if needed\n",
    "\n",
    "# Load dataset\n",
    "file_path = \"risk base pricing data 3w.xlsx\"  # Update with your actual dataset path\n",
    "df = pd.read_excel(file_path)\n",
    "\n",
    "# Ensure required columns exist\n",
    "if not {\"E\", \"C\", \"T\"}.issubset(df.columns):\n",
    "    raise ValueError(\"Dataset must contain columns: 'E', 'C', 'T'\")\n",
    "\n",
    "# Compute R_adjusted_predicted\n",
    "df[\"R_adjusted_predicted\"] = R_base * (\n",
    "    1 - k1 * (1 - df[\"E\"]) - k2 * df[\"C\"] + k3 * np.log(1 + df[\"T\"] / T_ref)\n",
    ")\n",
    "\n",
    "# Save updated dataset\n",
    "output_file = \"updated_dataset_03.csv\"\n",
    "df.to_csv(output_file, index=False)\n",
    "print(f\"Updated dataset saved as {output_file}\")\n"
   ]
  },
  {
   "cell_type": "code",
   "execution_count": null,
   "metadata": {},
   "outputs": [],
   "source": []
  }
 ],
 "metadata": {
  "kernelspec": {
   "display_name": "Python 3",
   "language": "python",
   "name": "python3"
  },
  "language_info": {
   "codemirror_mode": {
    "name": "ipython",
    "version": 3
   },
   "file_extension": ".py",
   "mimetype": "text/x-python",
   "name": "python",
   "nbconvert_exporter": "python",
   "pygments_lexer": "ipython3",
   "version": "3.10.10"
  }
 },
 "nbformat": 4,
 "nbformat_minor": 2
}
